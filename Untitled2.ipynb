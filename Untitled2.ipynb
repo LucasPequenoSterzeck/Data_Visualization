{
  "nbformat": 4,
  "nbformat_minor": 0,
  "metadata": {
    "colab": {
      "name": "Untitled2.ipynb",
      "provenance": [],
      "authorship_tag": "ABX9TyM9Zk7V+g9sI1MsAvyHMl++",
      "include_colab_link": true
    },
    "kernelspec": {
      "name": "python3",
      "display_name": "Python 3"
    },
    "language_info": {
      "name": "python"
    }
  },
  "cells": [
    {
      "cell_type": "markdown",
      "metadata": {
        "id": "view-in-github",
        "colab_type": "text"
      },
      "source": [
        "<a href=\"https://colab.research.google.com/github/lucasvx273/Data_Visualization/blob/main/Untitled2.ipynb\" target=\"_parent\"><img src=\"https://colab.research.google.com/assets/colab-badge.svg\" alt=\"Open In Colab\"/></a>"
      ]
    },
    {
      "cell_type": "markdown",
      "source": [
        "# **CURSO DE PYTHON SIGMOIDAL**\n",
        "<img alt=\"Colaboratory logo\" width=\"40%\" src=\"https://raw.githubusercontent.com/carlosfab/escola-data-science/master/img/novo_logo_bg_claro.png\">"
      ],
      "metadata": {
        "id": "pwAqZQUDTWnY"
      }
    },
    {
      "cell_type": "markdown",
      "source": [
        "## **Módulo 2 - Sigmoidal**"
      ],
      "metadata": {
        "id": "tTbghZ5JZoIQ"
      }
    },
    {
      "cell_type": "code",
      "source": [
        "#Montando Drive do Google Drive\n",
        "from google.colab import drive\n",
        "drive.mount('/content/drive')"
      ],
      "metadata": {
        "colab": {
          "base_uri": "https://localhost:8080/"
        },
        "id": "4YCpAU1NHH-w",
        "outputId": "1c1f3af8-0a4e-4fc8-abd0-82e06cc1c54e"
      },
      "execution_count": 2,
      "outputs": [
        {
          "output_type": "stream",
          "name": "stdout",
          "text": [
            "Mounted at /content/drive\n"
          ]
        }
      ]
    },
    {
      "cell_type": "code",
      "source": [
        "#Importar biblioteca de pastas\n",
        "import os"
      ],
      "metadata": {
        "id": "bl4OmDPCRwf5"
      },
      "execution_count": 3,
      "outputs": []
    },
    {
      "cell_type": "code",
      "execution_count": null,
      "metadata": {
        "id": "lUujikI5HF8Z"
      },
      "outputs": [],
      "source": [
        "#Comando: Verificar diretório atual\n",
        "os.getcwd()"
      ]
    },
    {
      "cell_type": "code",
      "source": [
        "#Comando: Verificar quais arquivos temos no diretório atual\n",
        "os.listdir()"
      ],
      "metadata": {
        "colab": {
          "base_uri": "https://localhost:8080/"
        },
        "id": "u7WFCG0RU3OW",
        "outputId": "1ab482ed-e8db-4cb5-a81e-fbd88c33e2c7"
      },
      "execution_count": 5,
      "outputs": [
        {
          "output_type": "execute_result",
          "data": {
            "text/plain": [
              "['.config', 'drive', 'sample_data']"
            ]
          },
          "metadata": {},
          "execution_count": 5
        }
      ]
    },
    {
      "cell_type": "code",
      "source": [
        "#Comando: Navegar para a pasta descrita\n",
        "os.chdir(\"/content/drive/MyDrive/COLAB\")\n",
        "#Use o código anterior para verificar se a alteração foi realizada."
      ],
      "metadata": {
        "id": "EAHABetoSeDf"
      },
      "execution_count": 6,
      "outputs": []
    },
    {
      "cell_type": "markdown",
      "source": [
        "Funções **open() **e** close()** que conseguem abrir e fechar arquivos.\n",
        "É necessário se atentar ao fato de que podemos abrír os arquivos como **leitura \"r\", escritaa \"w\" ou acrescentar \"a\"**(Nesse ultimo caso, trabalhamos apartir da última linha).\n",
        "\n",
        "Premissa: Sempre que abrir um arquivo, feche-o."
      ],
      "metadata": {
        "id": "b6utOw7yTuD6"
      }
    },
    {
      "cell_type": "code",
      "source": [
        "#Criação de arquivo\n",
        "arquivo = \"arquivo.txt\"\n",
        "\n",
        "#abrindo o arquivo que permite a escrita\n",
        "file = open(arquivo, \"w\")\n",
        "file.write (\"#FamíliaSigmoidal\")\n",
        "file.close()"
      ],
      "metadata": {
        "id": "pxb4lRnISspy"
      },
      "execution_count": 7,
      "outputs": []
    },
    {
      "cell_type": "code",
      "source": [
        "#Abrindo o arquivo para leitura\n",
        "file = open(\"arquivo.txt\", \"r\")\n",
        "\n",
        "#lendo o arquiv\n",
        "#Comando ==  file.read()\n",
        "#Ou para preservar os espáços, pode-se usar o comando PRINT\n",
        "print(file.read())\n",
        "\n",
        "#fechar o arquivo\n",
        "file.close()"
      ],
      "metadata": {
        "colab": {
          "base_uri": "https://localhost:8080/"
        },
        "id": "gHn4APtaVDRy",
        "outputId": "9fd24a57-6b10-4c68-cf7e-0e2f18356526"
      },
      "execution_count": 8,
      "outputs": [
        {
          "output_type": "stream",
          "name": "stdout",
          "text": [
            "#FamíliaSigmoidal\n"
          ]
        }
      ]
    },
    {
      "cell_type": "code",
      "source": [
        "#Criando e escreveno no arquivo com outro método\n",
        "with open(\"teste.txt\", \"w\") as txt:\n",
        "  txt.write(\"Testando a função\")\n"
      ],
      "metadata": {
        "id": "LvOC_6J1V2mj"
      },
      "execution_count": 9,
      "outputs": []
    },
    {
      "cell_type": "code",
      "source": [
        "#Acrescentando conteúdo do código acima\n",
        "with open(\"teste.txt\", \"a\") as txt:\n",
        "  txt.write(\"\\nTestando a função de acrescentar\")"
      ],
      "metadata": {
        "id": "-WC45lAJWlB1"
      },
      "execution_count": 10,
      "outputs": []
    },
    {
      "cell_type": "code",
      "source": [
        "#Função RENAME, que vai alterar o nome do arquivo teste.txt\n",
        "os.rename(\"teste.txt\", \"testeS.txt\")\n",
        "\n",
        "#Demonstrando o que foi feito\n",
        "os.listdir()"
      ],
      "metadata": {
        "colab": {
          "base_uri": "https://localhost:8080/"
        },
        "id": "isJu8tKCW7fI",
        "outputId": "cfd7c578-dcea-440a-b8c6-6d47949b926f"
      },
      "execution_count": 11,
      "outputs": [
        {
          "output_type": "execute_result",
          "data": {
            "text/plain": [
              "['arquivo.txt',\n",
              " 'testeS.txt',\n",
              " '20200803.pdf',\n",
              " 'Relatorios PDF Plumber',\n",
              " 'sao-paulo-properties-april-2019.csv']"
            ]
          },
          "metadata": {},
          "execution_count": 11
        }
      ]
    },
    {
      "cell_type": "markdown",
      "source": [
        "# **Sobre a biblioteca PDF Plumber**"
      ],
      "metadata": {
        "id": "EjN8hWJjZlTw"
      }
    },
    {
      "cell_type": "code",
      "source": [
        "#Instalando biblioteca\n",
        "!pip install pdfplumber\n",
        "import os\n",
        "import pdfplumber\n",
        "from google.colab import drive"
      ],
      "metadata": {
        "colab": {
          "base_uri": "https://localhost:8080/",
          "height": 661
        },
        "id": "Qogrmcn-aLtg",
        "outputId": "6898f4a7-5be8-4857-c871-271a3579cb4e"
      },
      "execution_count": 12,
      "outputs": [
        {
          "output_type": "stream",
          "name": "stdout",
          "text": [
            "Collecting pdfplumber\n",
            "  Downloading pdfplumber-0.6.0.tar.gz (46 kB)\n",
            "\u001b[K     |████████████████████████████████| 46 kB 4.2 MB/s \n",
            "\u001b[?25hCollecting pdfminer.six==20211012\n",
            "  Downloading pdfminer.six-20211012-py3-none-any.whl (5.6 MB)\n",
            "\u001b[K     |████████████████████████████████| 5.6 MB 65.2 MB/s \n",
            "\u001b[?25hCollecting Pillow>=8.4\n",
            "  Downloading Pillow-9.0.1-cp37-cp37m-manylinux_2_17_x86_64.manylinux2014_x86_64.whl (4.3 MB)\n",
            "\u001b[K     |████████████████████████████████| 4.3 MB 57.7 MB/s \n",
            "\u001b[?25hCollecting Wand>=0.6.7\n",
            "  Downloading Wand-0.6.7-py2.py3-none-any.whl (139 kB)\n",
            "\u001b[K     |████████████████████████████████| 139 kB 91.5 MB/s \n",
            "\u001b[?25hCollecting cryptography\n",
            "  Downloading cryptography-36.0.1-cp36-abi3-manylinux_2_24_x86_64.whl (3.6 MB)\n",
            "\u001b[K     |████████████████████████████████| 3.6 MB 68.4 MB/s \n",
            "\u001b[?25hRequirement already satisfied: chardet in /usr/local/lib/python3.7/dist-packages (from pdfminer.six==20211012->pdfplumber) (3.0.4)\n",
            "Requirement already satisfied: cffi>=1.12 in /usr/local/lib/python3.7/dist-packages (from cryptography->pdfminer.six==20211012->pdfplumber) (1.15.0)\n",
            "Requirement already satisfied: pycparser in /usr/local/lib/python3.7/dist-packages (from cffi>=1.12->cryptography->pdfminer.six==20211012->pdfplumber) (2.21)\n",
            "Building wheels for collected packages: pdfplumber\n",
            "  Building wheel for pdfplumber (setup.py) ... \u001b[?25l\u001b[?25hdone\n",
            "  Created wheel for pdfplumber: filename=pdfplumber-0.6.0-py3-none-any.whl size=33688 sha256=ea67ce26e8bf7701173520ae053838481a26d1904635aefc8b3655f8f11c2f09\n",
            "  Stored in directory: /root/.cache/pip/wheels/58/56/fe/2e93d842ffa9ea97746c1ab253d43502ed61c0689361a0224e\n",
            "Successfully built pdfplumber\n",
            "Installing collected packages: cryptography, Wand, Pillow, pdfminer.six, pdfplumber\n",
            "  Attempting uninstall: Pillow\n",
            "    Found existing installation: Pillow 7.1.2\n",
            "    Uninstalling Pillow-7.1.2:\n",
            "      Successfully uninstalled Pillow-7.1.2\n",
            "\u001b[31mERROR: pip's dependency resolver does not currently take into account all the packages that are installed. This behaviour is the source of the following dependency conflicts.\n",
            "albumentations 0.1.12 requires imgaug<0.2.7,>=0.2.5, but you have imgaug 0.2.9 which is incompatible.\u001b[0m\n",
            "Successfully installed Pillow-9.0.1 Wand-0.6.7 cryptography-36.0.1 pdfminer.six-20211012 pdfplumber-0.6.0\n"
          ]
        },
        {
          "output_type": "display_data",
          "data": {
            "application/vnd.colab-display-data+json": {
              "pip_warning": {
                "packages": [
                  "PIL"
                ]
              }
            }
          },
          "metadata": {}
        }
      ]
    },
    {
      "cell_type": "code",
      "source": [
        "#Abrindo o documento\n",
        "pdf = pdfplumber.open(\"/content/drive/MyDrive/modelo_de_relatorio.pdf\")\n",
        "\n",
        "#Sabendo o número de páginas e selecionando\n",
        "print(pdf.pages)\n",
        "pdf.pages[0]\n",
        "#Contagem das paginas vai de 1 a seguir, agora para selecionar devo sempre contar apartir de 0 ZERO"
      ],
      "metadata": {
        "colab": {
          "base_uri": "https://localhost:8080/"
        },
        "id": "OThblE6AaPir",
        "outputId": "19b16b5b-8373-4bcc-aa9e-b8ddcdd2cdc8"
      },
      "execution_count": null,
      "outputs": [
        {
          "output_type": "stream",
          "name": "stdout",
          "text": [
            "[<Page:1>, <Page:2>, <Page:3>]\n"
          ]
        },
        {
          "output_type": "execute_result",
          "data": {
            "text/plain": [
              "<Page:1>"
            ]
          },
          "metadata": {},
          "execution_count": 26
        }
      ]
    },
    {
      "cell_type": "code",
      "source": [
        "#Após selecionado a página, podemos começar a extrair informações: 1º Passo selecionando pagina\n",
        "page = pdf.pages[0]\n",
        "page"
      ],
      "metadata": {
        "colab": {
          "base_uri": "https://localhost:8080/"
        },
        "id": "c392vI_mjUNL",
        "outputId": "67b96354-5925-4aaf-ab97-a4055c86afa4"
      },
      "execution_count": null,
      "outputs": [
        {
          "output_type": "execute_result",
          "data": {
            "text/plain": [
              "<Page:1>"
            ]
          },
          "metadata": {},
          "execution_count": 27
        }
      ]
    },
    {
      "cell_type": "code",
      "source": [
        "#Após selecionado a página, podemos começar a extrair informações: 2º Extraindo texto\n",
        "text = page.extract_text()\n",
        "## Opção para ver escala em PDF:: print(text)\n",
        "page.extract_text()\n"
      ],
      "metadata": {
        "colab": {
          "base_uri": "https://localhost:8080/",
          "height": 140
        },
        "id": "HJFu8-JXlI9I",
        "outputId": "639dbb5a-1d05-4ec1-9955-b5745ccca930"
      },
      "execution_count": null,
      "outputs": [
        {
          "output_type": "execute_result",
          "data": {
            "application/vnd.google.colaboratory.intrinsic+json": {
              "type": "string"
            },
            "text/plain": [
              "'SIGMOIDAL \\n   \\nRelatório Diário \\n \\nData: 10/08/2020 \\n \\nRECEITA: R$ 1.397,00 \\nDADOS ATUALIZADOS POR CARLOS MELO\\n \\n \\n Visitantes: 1367 \\nA quantidade de visitantes diz respeito a visitantes únicos visitando qualquer \\npágina do domínio ou subdomínio sigmoidal.ai. Compreende, então, cursos, \\nblogs e landing pages. \\n Inscritos: 33 \\nÉ considerado aqui o número de leads gerados por meio de cadastro \\nvoluntário nos formulários do cabeçalho, rodapé ou materiais ricos (como \\neBook, infográficos, entre outros). \\n Assinantes: 6 \\nClientes assinantes da Escola de Data Science, considerando-se o plano \\nrenovável de assinatura mensal. \\n \\n \\nLucas Pequeno Sterzeck - lpsterzeck@outlook.com - IP: 177.83.155.239'"
            ]
          },
          "metadata": {},
          "execution_count": 31
        }
      ]
    },
    {
      "cell_type": "code",
      "source": [
        "#Selecionsnado elemento que quereremos, nesse vamos vamos selecionar receita e depois somente o número da receita\n",
        "Receita_Geral = page.extract_text().split(\"\\n\")[6]\n",
        "Receita_Num = page.extract_text().split(\"\\n\")[6].split(\"R$\")[1].strip()\n",
        "\n",
        "print(Receita_Geral, Receita_Num)\n",
        "print(type(Receita_Geral), type(Receita_Num))"
      ],
      "metadata": {
        "colab": {
          "base_uri": "https://localhost:8080/"
        },
        "id": "pwm8Z-U9jKeI",
        "outputId": "8a1c63a6-3347-4061-b05f-4a671e166f87"
      },
      "execution_count": null,
      "outputs": [
        {
          "output_type": "stream",
          "name": "stdout",
          "text": [
            "RECEITA: R$ 1.397,00  1.397,00\n",
            "<class 'str'> <class 'str'>\n"
          ]
        }
      ]
    },
    {
      "cell_type": "code",
      "source": [
        "#Consultando meta dados\n",
        "print(pdf.metadata[\"Author\"],\"\\n\",\"---\"*30)\n",
        "pdf.metadata"
      ],
      "metadata": {
        "colab": {
          "base_uri": "https://localhost:8080/"
        },
        "id": "Vp-1Fy1lm8qm",
        "outputId": "5555d048-9ca0-4f58-8a77-79ec16d5f6a7"
      },
      "execution_count": null,
      "outputs": [
        {
          "output_type": "stream",
          "name": "stdout",
          "text": [
            "Carlos Melo \n",
            " ------------------------------------------------------------------------------------------\n"
          ]
        },
        {
          "output_type": "execute_result",
          "data": {
            "text/plain": [
              "{'AssetID': 'TF10002026',\n",
              " 'Author': 'Carlos Melo',\n",
              " 'Comments': '',\n",
              " 'Company': '',\n",
              " 'CreationDate': 'D:20200831180053Z',\n",
              " 'Creator': 'Acrobat PDFMaker 20 for Word',\n",
              " 'Keywords': 'report, vendas, sigmoidal, diário, relatório',\n",
              " 'ModDate': 'D:20220206193012',\n",
              " 'Producer': 'HexaPDF version 0.20.4',\n",
              " 'SourceModified': 'D:20200831180051',\n",
              " 'Subject': 'Template para relatório diário',\n",
              " 'Title': 'Relatório Sigmoidal'}"
            ]
          },
          "metadata": {},
          "execution_count": 48
        }
      ]
    },
    {
      "cell_type": "markdown",
      "source": [
        "Refencencias do PDF Plumber para consulta: \n",
        "\n",
        "*   Notebook apoio = https://colab.research.google.com/drive/11V0tBIvRj5uc3KAC2dnvS8w5PfaPPFGL?usp=sharing\n",
        "*   Github = https://github.com/jsvine/pdfplumber\n",
        "*   Site PDF Plumber = https://towardsdatascience.com/how-to-extract-text-from-pdf-245482a96de7\n",
        "\n",
        "\n",
        "\n",
        "\n",
        "\n"
      ],
      "metadata": {
        "id": "Zs6EPRQSnTJb"
      }
    },
    {
      "cell_type": "code",
      "source": [
        "## Aula de extração de documentos em serie\n",
        "import pdfplumber\n",
        "import os\n",
        "from google.colab import drive"
      ],
      "metadata": {
        "id": "aU_dOWPenVkv"
      },
      "execution_count": null,
      "outputs": []
    },
    {
      "cell_type": "code",
      "source": [
        "#Atualizar diretório\n",
        "os.chdir(\"/content/drive/MyDrive/COLAB/Relatorios PDF Plumber\")\n",
        "\n",
        "os.getcwd()"
      ],
      "metadata": {
        "colab": {
          "base_uri": "https://localhost:8080/",
          "height": 35
        },
        "id": "HMS0uujMqUSG",
        "outputId": "7fdaf897-ed66-400a-fd94-4becc76ae674"
      },
      "execution_count": null,
      "outputs": [
        {
          "output_type": "execute_result",
          "data": {
            "application/vnd.google.colaboratory.intrinsic+json": {
              "type": "string"
            },
            "text/plain": [
              "'/content/drive/MyDrive/COLAB/Relatorios PDF Plumber'"
            ]
          },
          "metadata": {},
          "execution_count": 53
        }
      ]
    },
    {
      "cell_type": "code",
      "source": [
        "#Selecionar relatorio e pagina\n",
        "relatorio = pdfplumber.open(\"/content/drive/MyDrive/COLAB/Relatorios PDF Plumber/20200801.pdf\")\n",
        "pagina = relatorio.pages[0]\n",
        "#É necessário selecionar a página para extração\n",
        "texto = pagina.extract_text()\n",
        "print(texto)\n"
      ],
      "metadata": {
        "id": "NpbngGKdqowL"
      },
      "execution_count": null,
      "outputs": []
    },
    {
      "cell_type": "code",
      "source": [
        "#Separando o valor\n",
        "Texto_bruto = texto.split(\"\\n\")[6].replace(\"\\t\", \"\")\n",
        "print(Texto_bruto)\n",
        "Texto_limpo = Texto_bruto.split(\"R$\")[1]\n",
        "print(Texto_limpo,type(Texto_limpo))\n",
        "print(\"Agora em float: {}, Classe: {}.\".format(float(Texto_limpo),type(float(Texto_limpo))))"
      ],
      "metadata": {
        "colab": {
          "base_uri": "https://localhost:8080/"
        },
        "id": "OW1RUnxVrwCu",
        "outputId": "046dc093-eed7-43ad-f27a-8deb753a9e48"
      },
      "execution_count": null,
      "outputs": [
        {
          "output_type": "stream",
          "name": "stdout",
          "text": [
            "RECEITA:R$1297.00\n",
            "1297.00 <class 'str'>\n",
            "Agora em float: 1297.0, Classe: <class 'float'>.\n"
          ]
        }
      ]
    },
    {
      "cell_type": "code",
      "source": [
        "#Varivavel que lista e armazena os nomes de cada um dos relatorios\n",
        "arquivos_semana = os.listdir()\n",
        "arquivos_semana"
      ],
      "metadata": {
        "colab": {
          "base_uri": "https://localhost:8080/"
        },
        "id": "pXrwrcpctjuC",
        "outputId": "0904b3ad-bea2-44dc-acb9-45418a9626b3"
      },
      "execution_count": null,
      "outputs": [
        {
          "output_type": "execute_result",
          "data": {
            "text/plain": [
              "['20200801.pdf',\n",
              " '20200804.pdf',\n",
              " '20200805.pdf',\n",
              " '20200803.pdf',\n",
              " '20200802.pdf']"
            ]
          },
          "metadata": {},
          "execution_count": 76
        }
      ]
    },
    {
      "cell_type": "code",
      "source": [
        "#Estrutura para abrir cada um dos arquivos listados\n",
        "soma = 0\n",
        "\n",
        "for arquivo in arquivos_semana:\n",
        "  relatorio = pdfplumber.open(arquivo)\n",
        "  pagina = relatorio.pages[0]\n",
        "  texto = pagina.extract_text()\n",
        "  valor = texto.split(\"\\n\")[6].replace(\"\\t\", \"\").replace(\".\",\",\").replace(\",\",\".\").split(\"R$\")[1]\n",
        "  valor = float(valor)\n",
        "  soma += 1\n",
        "  print(f\"Arquvio: {arquivo}, com R$ {valor} , nº {soma}.\")"
      ],
      "metadata": {
        "colab": {
          "base_uri": "https://localhost:8080/"
        },
        "id": "oysEL--8t2ZH",
        "outputId": "b3ed3811-aa43-4999-8723-b3403350b609"
      },
      "execution_count": null,
      "outputs": [
        {
          "output_type": "stream",
          "name": "stdout",
          "text": [
            "Arquvio: 20200801.pdf, com R$ 1297.0 , nº 1.\n",
            "Arquvio: 20200804.pdf, com R$ 2554.0 , nº 2.\n",
            "Arquvio: 20200805.pdf, com R$ 154.0 , nº 3.\n",
            "Arquvio: 20200803.pdf, com R$ 554.0 , nº 4.\n",
            "Arquvio: 20200802.pdf, com R$ 537.0 , nº 5.\n"
          ]
        }
      ]
    },
    {
      "cell_type": "markdown",
      "source": [
        "*Referências utilizadas:*\n",
        "\n",
        "Build Code Collaboration with Google Colab - https://towardsdatascience.com/an-effective-way-of-managing-files-on-google-colab-ac37f792690b\n",
        "\n",
        "Colab and Google Sheets — Surprisingly Powerful Combination for Data Science -  https://medium.com/analytics-vidhya/colab-and-google-sheets-surprisingly-powerful-combination-for-data-science-part-1-bbbb11cbd8e"
      ],
      "metadata": {
        "id": "6Tc9Ys3-MFod"
      }
    },
    {
      "cell_type": "markdown",
      "source": [
        "## **Módulo 4 - Sigmoidal**\n",
        "\n",
        "Matplotlib - https://matplotlib.org/\n",
        "Python Plotting With Matplotlib - https://realpython.com/python-matplotlib-guide/\n",
        "\n",
        "\n",
        "\n"
      ],
      "metadata": {
        "id": "qZfQ8TMnvjIw"
      }
    },
    {
      "cell_type": "code",
      "source": [
        "#Utilização do matplotlib\n",
        "import numpy as np\n",
        "import matplotlib.pyplot as plt"
      ],
      "metadata": {
        "id": "JQ7MGrujvnWA"
      },
      "execution_count": 13,
      "outputs": []
    },
    {
      "cell_type": "code",
      "source": [
        "#Exemplo, gerando dados aleatórios\n",
        "\n",
        "#gerar valores demonstrativos\n",
        "np.random.seed(42)\n",
        "x = np.arange(10)\n",
        "y = np.random.normal(size=10)\n",
        "print(x,y)"
      ],
      "metadata": {
        "colab": {
          "base_uri": "https://localhost:8080/"
        },
        "id": "JwryGpUFygTa",
        "outputId": "f6f87e0c-7a40-4f61-8ff5-e201550f10ea"
      },
      "execution_count": 14,
      "outputs": [
        {
          "output_type": "stream",
          "name": "stdout",
          "text": [
            "[0 1 2 3 4 5 6 7 8 9] [ 0.49671415 -0.1382643   0.64768854  1.52302986 -0.23415337 -0.23413696\n",
            "  1.57921282  0.76743473 -0.46947439  0.54256004]\n"
          ]
        }
      ]
    },
    {
      "cell_type": "code",
      "source": [
        "#plotando os dados aleatório(acima) no grafico\n",
        "plt.plot(x, y, label=\"Normal\")\n",
        "plt.plot(x*-1, y, label=\"Inverso\")\n",
        "plt.title(\"Exemplo de título\")\n",
        "plt.xlabel(\"Exemplo eixo X\")\n",
        "plt.ylabel(\"Exemplo eixo Y\")\n",
        "plt.legend()\n",
        "plt.show()"
      ],
      "metadata": {
        "colab": {
          "base_uri": "https://localhost:8080/",
          "height": 295
        },
        "id": "bNPhmDtWzgov",
        "outputId": "3c98f12c-dc7c-4d2c-e0a7-3efa572e5951"
      },
      "execution_count": 15,
      "outputs": [
        {
          "output_type": "display_data",
          "data": {
            "image/png": "[encoded data removed]",
            "text/plain": [
              "<Figure size 432x288 with 1 Axes>"
            ]
          },
          "metadata": {
            "needs_background": "light"
          }
        }
      ]
    },
    {
      "cell_type": "code",
      "source": [
        "#Agora utilizndo dados do Github\n",
        "import matplotlib.pyplot as plt\n",
        "import pandas as pd\n",
        "\n",
        "\n",
        "base = pd.read_csv(\"https://raw.githubusercontent.com/carlosfab/dsnp2/master/datasets/dengue-dataset.csv\") \n",
        "x = pd.to_datetime(base[\"data\"])\n",
        "#Acima convertendo a base coluna: DATA para dia, pois está como String. (Ordem correta do \"pd\" ano-dia-mes)\n",
        "y = base[\"casos-confirmados\"]\n",
        "scale_factor = y.mean()\n",
        "tempmedia = base[\"temperatura-media\"]\n",
        "tempminima = base[\"temperatura-mininima\"]\n",
        "tempmaxima = base[\"temperatura-maxima\"]\n",
        "plt.plot(x, y, label=\"C. Confirmados\")\n",
        "plt.plot(x, tempmedia * scale_factor, label=\"T. Média\")\n",
        "plt.plot(x, tempminima * scale_factor, label=\"T. Mínima\")\n",
        "plt.plot(x, tempmaxima * scale_factor, label=\"T. Máxima\")\n",
        "plt.title(\"Casos confirmados x températuras\")\n",
        "plt.xlabel(\"Exemplo eixo X\")\n",
        "plt.ylabel(\"Exemplo eixo Y\")\n",
        "plt.legend()\n",
        "plt.show()"
      ],
      "metadata": {
        "colab": {
          "base_uri": "https://localhost:8080/",
          "height": 295
        },
        "id": "l8F0hIilBL_I",
        "outputId": "95ca5d18-42fc-4dae-f46a-1b3797897611"
      },
      "execution_count": 16,
      "outputs": [
        {
          "output_type": "display_data",
          "data": {
            "image/png": "[encoded data removed]",
            "text/plain": [
              "<Figure size 432x288 with 1 Axes>"
            ]
          },
          "metadata": {
            "needs_background": "light"
          }
        }
      ]
    },
    {
      "cell_type": "code",
      "source": [
        "#Comando que mostra o tipo de dados de cada coluna\n",
        "base.dtypes"
      ],
      "metadata": {
        "colab": {
          "base_uri": "https://localhost:8080/"
        },
        "id": "RDoDMDW8C1Ct",
        "outputId": "023aa3ff-4b06-4902-ed72-3ff4e78ceea6"
      },
      "execution_count": 17,
      "outputs": [
        {
          "output_type": "execute_result",
          "data": {
            "text/plain": [
              "data                     object\n",
              "casos-confirmados         int64\n",
              "chuva                   float64\n",
              "temperatura-media       float64\n",
              "temperatura-mininima    float64\n",
              "temperatura-maxima      float64\n",
              "dtype: object"
            ]
          },
          "metadata": {},
          "execution_count": 17
        }
      ]
    },
    {
      "cell_type": "code",
      "source": [
        "#Agora utilizando gráfico de barras\n",
        "import pandas as pd\n",
        "import matplotlib.pyplot as plt\n",
        "\n",
        "df = pd.read_csv(\"https://raw.githubusercontent.com/carlosfab/dsnp2/master/datasets/entrada_passageiro_linha1.csv\")\n",
        "df.tail()"
      ],
      "metadata": {
        "colab": {
          "base_uri": "https://localhost:8080/",
          "height": 206
        },
        "id": "AlnmiBliSrpi",
        "outputId": "7fc19fd9-0cd9-4642-fc30-68e1a9f9cd35"
      },
      "execution_count": 18,
      "outputs": [
        {
          "output_type": "execute_result",
          "data": {
            "text/html": [
              "\n",
              "  <div id=\"df-21ca0811-832a-4162-b3b5-9b0ec590d325\">\n",
              "    <div class=\"colab-df-container\">\n",
              "      <div>\n",
              "<style scoped>\n",
              "    .dataframe tbody tr th:only-of-type {\n",
              "        vertical-align: middle;\n",
              "    }\n",
              "\n",
              "    .dataframe tbody tr th {\n",
              "        vertical-align: top;\n",
              "    }\n",
              "\n",
              "    .dataframe thead th {\n",
              "        text-align: right;\n",
              "    }\n",
              "</style>\n",
              "<table border=\"1\" class=\"dataframe\">\n",
              "  <thead>\n",
              "    <tr style=\"text-align: right;\">\n",
              "      <th></th>\n",
              "      <th>Estação</th>\n",
              "      <th>Entradas</th>\n",
              "    </tr>\n",
              "  </thead>\n",
              "  <tbody>\n",
              "    <tr>\n",
              "      <th>19</th>\n",
              "      <td>Santana</td>\n",
              "      <td>64.000</td>\n",
              "    </tr>\n",
              "    <tr>\n",
              "      <th>20</th>\n",
              "      <td>Jardim São Paulo-Ayrton Senna</td>\n",
              "      <td>14.000</td>\n",
              "    </tr>\n",
              "    <tr>\n",
              "      <th>21</th>\n",
              "      <td>Parada Inglesa</td>\n",
              "      <td>16.000</td>\n",
              "    </tr>\n",
              "    <tr>\n",
              "      <th>22</th>\n",
              "      <td>Tucuruvi</td>\n",
              "      <td>70.000</td>\n",
              "    </tr>\n",
              "    <tr>\n",
              "      <th>23</th>\n",
              "      <td>TOTAL</td>\n",
              "      <td>1.425</td>\n",
              "    </tr>\n",
              "  </tbody>\n",
              "</table>\n",
              "</div>\n",
              "      <button class=\"colab-df-convert\" onclick=\"convertToInteractive('df-21ca0811-832a-4162-b3b5-9b0ec590d325')\"\n",
              "              title=\"Convert this dataframe to an interactive table.\"\n",
              "              style=\"display:none;\">\n",
              "        \n",
              "  <svg xmlns=\"http://www.w3.org/2000/svg\" height=\"24px\"viewBox=\"0 0 24 24\"\n",
              "       width=\"24px\">\n",
              "    <path d=\"M0 0h24v24H0V0z\" fill=\"none\"/>\n",
              "    <path d=\"M18.56 5.44l.94 2.06.94-2.06 2.06-.94-2.06-.94-.94-2.06-.94 2.06-2.06.94zm-11 1L8.5 8.5l.94-2.06 2.06-.94-2.06-.94L8.5 2.5l-.94 2.06-2.06.94zm10 10l.94 2.06.94-2.06 2.06-.94-2.06-.94-.94-2.06-.94 2.06-2.06.94z\"/><path d=\"M17.41 7.96l-1.37-1.37c-.4-.4-.92-.59-1.43-.59-.52 0-1.04.2-1.43.59L10.3 9.45l-7.72 7.72c-.78.78-.78 2.05 0 2.83L4 21.41c.39.39.9.59 1.41.59.51 0 1.02-.2 1.41-.59l7.78-7.78 2.81-2.81c.8-.78.8-2.07 0-2.86zM5.41 20L4 18.59l7.72-7.72 1.47 1.35L5.41 20z\"/>\n",
              "  </svg>\n",
              "      </button>\n",
              "      \n",
              "  <style>\n",
              "    .colab-df-container {\n",
              "      display:flex;\n",
              "      flex-wrap:wrap;\n",
              "      gap: 12px;\n",
              "    }\n",
              "\n",
              "    .colab-df-convert {\n",
              "      background-color: #E8F0FE;\n",
              "      border: none;\n",
              "      border-radius: 50%;\n",
              "      cursor: pointer;\n",
              "      display: none;\n",
              "      fill: #1967D2;\n",
              "      height: 32px;\n",
              "      padding: 0 0 0 0;\n",
              "      width: 32px;\n",
              "    }\n",
              "\n",
              "    .colab-df-convert:hover {\n",
              "      background-color: #E2EBFA;\n",
              "      box-shadow: 0px 1px 2px rgba(60, 64, 67, 0.3), 0px 1px 3px 1px rgba(60, 64, 67, 0.15);\n",
              "      fill: #174EA6;\n",
              "    }\n",
              "\n",
              "    [theme=dark] .colab-df-convert {\n",
              "      background-color: #3B4455;\n",
              "      fill: #D2E3FC;\n",
              "    }\n",
              "\n",
              "    [theme=dark] .colab-df-convert:hover {\n",
              "      background-color: #434B5C;\n",
              "      box-shadow: 0px 1px 3px 1px rgba(0, 0, 0, 0.15);\n",
              "      filter: drop-shadow(0px 1px 2px rgba(0, 0, 0, 0.3));\n",
              "      fill: #FFFFFF;\n",
              "    }\n",
              "  </style>\n",
              "\n",
              "      <script>\n",
              "        const buttonEl =\n",
              "          document.querySelector('#df-21ca0811-832a-4162-b3b5-9b0ec590d325 button.colab-df-convert');\n",
              "        buttonEl.style.display =\n",
              "          google.colab.kernel.accessAllowed ? 'block' : 'none';\n",
              "\n",
              "        async function convertToInteractive(key) {\n",
              "          const element = document.querySelector('#df-21ca0811-832a-4162-b3b5-9b0ec590d325');\n",
              "          const dataTable =\n",
              "            await google.colab.kernel.invokeFunction('convertToInteractive',\n",
              "                                                     [key], {});\n",
              "          if (!dataTable) return;\n",
              "\n",
              "          const docLinkHtml = 'Like what you see? Visit the ' +\n",
              "            '<a target=\"_blank\" href=https://colab.research.google.com/notebooks/data_table.ipynb>data table notebook</a>'\n",
              "            + ' to learn more about interactive tables.';\n",
              "          element.innerHTML = '';\n",
              "          dataTable['output_type'] = 'display_data';\n",
              "          await google.colab.output.renderOutput(dataTable, element);\n",
              "          const docLink = document.createElement('div');\n",
              "          docLink.innerHTML = docLinkHtml;\n",
              "          element.appendChild(docLink);\n",
              "        }\n",
              "      </script>\n",
              "    </div>\n",
              "  </div>\n",
              "  "
            ],
            "text/plain": [
              "                          Estação  Entradas\n",
              "19                        Santana    64.000\n",
              "20  Jardim São Paulo-Ayrton Senna    14.000\n",
              "21                 Parada Inglesa    16.000\n",
              "22                       Tucuruvi    70.000\n",
              "23                          TOTAL     1.425"
            ]
          },
          "metadata": {},
          "execution_count": 18
        }
      ]
    },
    {
      "cell_type": "code",
      "source": [
        "#Vamos tirar agora a última linha \"Total\", pois isso vai atrapalhar a análise de dados!\n",
        "df.drop(index=23,axis=0,inplace=True)\n",
        "\n",
        "#Agora para testar se está corretor:\n",
        "df.tail()"
      ],
      "metadata": {
        "colab": {
          "base_uri": "https://localhost:8080/",
          "height": 206
        },
        "id": "fy-PIOuVTDhZ",
        "outputId": "b142bb63-f996-42af-a078-f6731fbf17eb"
      },
      "execution_count": 19,
      "outputs": [
        {
          "output_type": "execute_result",
          "data": {
            "text/html": [
              "\n",
              "  <div id=\"df-affc3920-06e5-4672-a2bd-11358bad5886\">\n",
              "    <div class=\"colab-df-container\">\n",
              "      <div>\n",
              "<style scoped>\n",
              "    .dataframe tbody tr th:only-of-type {\n",
              "        vertical-align: middle;\n",
              "    }\n",
              "\n",
              "    .dataframe tbody tr th {\n",
              "        vertical-align: top;\n",
              "    }\n",
              "\n",
              "    .dataframe thead th {\n",
              "        text-align: right;\n",
              "    }\n",
              "</style>\n",
              "<table border=\"1\" class=\"dataframe\">\n",
              "  <thead>\n",
              "    <tr style=\"text-align: right;\">\n",
              "      <th></th>\n",
              "      <th>Estação</th>\n",
              "      <th>Entradas</th>\n",
              "    </tr>\n",
              "  </thead>\n",
              "  <tbody>\n",
              "    <tr>\n",
              "      <th>18</th>\n",
              "      <td>Carandiru</td>\n",
              "      <td>15.0</td>\n",
              "    </tr>\n",
              "    <tr>\n",
              "      <th>19</th>\n",
              "      <td>Santana</td>\n",
              "      <td>64.0</td>\n",
              "    </tr>\n",
              "    <tr>\n",
              "      <th>20</th>\n",
              "      <td>Jardim São Paulo-Ayrton Senna</td>\n",
              "      <td>14.0</td>\n",
              "    </tr>\n",
              "    <tr>\n",
              "      <th>21</th>\n",
              "      <td>Parada Inglesa</td>\n",
              "      <td>16.0</td>\n",
              "    </tr>\n",
              "    <tr>\n",
              "      <th>22</th>\n",
              "      <td>Tucuruvi</td>\n",
              "      <td>70.0</td>\n",
              "    </tr>\n",
              "  </tbody>\n",
              "</table>\n",
              "</div>\n",
              "      <button class=\"colab-df-convert\" onclick=\"convertToInteractive('df-affc3920-06e5-4672-a2bd-11358bad5886')\"\n",
              "              title=\"Convert this dataframe to an interactive table.\"\n",
              "              style=\"display:none;\">\n",
              "        \n",
              "  <svg xmlns=\"http://www.w3.org/2000/svg\" height=\"24px\"viewBox=\"0 0 24 24\"\n",
              "       width=\"24px\">\n",
              "    <path d=\"M0 0h24v24H0V0z\" fill=\"none\"/>\n",
              "    <path d=\"M18.56 5.44l.94 2.06.94-2.06 2.06-.94-2.06-.94-.94-2.06-.94 2.06-2.06.94zm-11 1L8.5 8.5l.94-2.06 2.06-.94-2.06-.94L8.5 2.5l-.94 2.06-2.06.94zm10 10l.94 2.06.94-2.06 2.06-.94-2.06-.94-.94-2.06-.94 2.06-2.06.94z\"/><path d=\"M17.41 7.96l-1.37-1.37c-.4-.4-.92-.59-1.43-.59-.52 0-1.04.2-1.43.59L10.3 9.45l-7.72 7.72c-.78.78-.78 2.05 0 2.83L4 21.41c.39.39.9.59 1.41.59.51 0 1.02-.2 1.41-.59l7.78-7.78 2.81-2.81c.8-.78.8-2.07 0-2.86zM5.41 20L4 18.59l7.72-7.72 1.47 1.35L5.41 20z\"/>\n",
              "  </svg>\n",
              "      </button>\n",
              "      \n",
              "  <style>\n",
              "    .colab-df-container {\n",
              "      display:flex;\n",
              "      flex-wrap:wrap;\n",
              "      gap: 12px;\n",
              "    }\n",
              "\n",
              "    .colab-df-convert {\n",
              "      background-color: #E8F0FE;\n",
              "      border: none;\n",
              "      border-radius: 50%;\n",
              "      cursor: pointer;\n",
              "      display: none;\n",
              "      fill: #1967D2;\n",
              "      height: 32px;\n",
              "      padding: 0 0 0 0;\n",
              "      width: 32px;\n",
              "    }\n",
              "\n",
              "    .colab-df-convert:hover {\n",
              "      background-color: #E2EBFA;\n",
              "      box-shadow: 0px 1px 2px rgba(60, 64, 67, 0.3), 0px 1px 3px 1px rgba(60, 64, 67, 0.15);\n",
              "      fill: #174EA6;\n",
              "    }\n",
              "\n",
              "    [theme=dark] .colab-df-convert {\n",
              "      background-color: #3B4455;\n",
              "      fill: #D2E3FC;\n",
              "    }\n",
              "\n",
              "    [theme=dark] .colab-df-convert:hover {\n",
              "      background-color: #434B5C;\n",
              "      box-shadow: 0px 1px 3px 1px rgba(0, 0, 0, 0.15);\n",
              "      filter: drop-shadow(0px 1px 2px rgba(0, 0, 0, 0.3));\n",
              "      fill: #FFFFFF;\n",
              "    }\n",
              "  </style>\n",
              "\n",
              "      <script>\n",
              "        const buttonEl =\n",
              "          document.querySelector('#df-affc3920-06e5-4672-a2bd-11358bad5886 button.colab-df-convert');\n",
              "        buttonEl.style.display =\n",
              "          google.colab.kernel.accessAllowed ? 'block' : 'none';\n",
              "\n",
              "        async function convertToInteractive(key) {\n",
              "          const element = document.querySelector('#df-affc3920-06e5-4672-a2bd-11358bad5886');\n",
              "          const dataTable =\n",
              "            await google.colab.kernel.invokeFunction('convertToInteractive',\n",
              "                                                     [key], {});\n",
              "          if (!dataTable) return;\n",
              "\n",
              "          const docLinkHtml = 'Like what you see? Visit the ' +\n",
              "            '<a target=\"_blank\" href=https://colab.research.google.com/notebooks/data_table.ipynb>data table notebook</a>'\n",
              "            + ' to learn more about interactive tables.';\n",
              "          element.innerHTML = '';\n",
              "          dataTable['output_type'] = 'display_data';\n",
              "          await google.colab.output.renderOutput(dataTable, element);\n",
              "          const docLink = document.createElement('div');\n",
              "          docLink.innerHTML = docLinkHtml;\n",
              "          element.appendChild(docLink);\n",
              "        }\n",
              "      </script>\n",
              "    </div>\n",
              "  </div>\n",
              "  "
            ],
            "text/plain": [
              "                          Estação  Entradas\n",
              "18                      Carandiru      15.0\n",
              "19                        Santana      64.0\n",
              "20  Jardim São Paulo-Ayrton Senna      14.0\n",
              "21                 Parada Inglesa      16.0\n",
              "22                       Tucuruvi      70.0"
            ]
          },
          "metadata": {},
          "execution_count": 19
        }
      ]
    },
    {
      "cell_type": "code",
      "source": [
        "#Plotação do gráfico de barras:\n",
        "\n",
        "df.plot(x=\"Estação\", y=\"Entradas\", kind=\"bar\")\n",
        "\n",
        "plt.title(\"Entrada Média de passageiros - Linha 1 (Dez/2018)\")\n",
        "plt.xlabel(\"Estação\")\n",
        "plt.ylabel(\"Entradas\")\n",
        "plt.show()\n",
        "\n",
        "df[\"Estação\"].value_counts()"
      ],
      "metadata": {
        "colab": {
          "base_uri": "https://localhost:8080/",
          "height": 856
        },
        "id": "ZwdBQDihS1hG",
        "outputId": "e46c95db-e878-4339-ba84-fcd3697abec9"
      },
      "execution_count": 20,
      "outputs": [
        {
          "output_type": "display_data",
          "data": {
            "image/png": "[encoded data removed]",
            "text/plain": [
              "<Figure size 432x288 with 1 Axes>"
            ]
          },
          "metadata": {
            "needs_background": "light"
          }
        },
        {
          "output_type": "execute_result",
          "data": {
            "text/plain": [
              "Jabaquara                        1\n",
              "Sé³                              1\n",
              "Parada Inglesa                   1\n",
              "Jardim São Paulo-Ayrton Senna    1\n",
              "Santana                          1\n",
              "Carandiru                        1\n",
              "Portuguesa-Tietê                 1\n",
              "Armênia                          1\n",
              "Tiradentes                       1\n",
              "Luz                              1\n",
              "São Bento                        1\n",
              "Liberdade                        1\n",
              "Conceição                        1\n",
              "São Joaquim                      1\n",
              "Vergueiro                        1\n",
              "Paraíso¹                         1\n",
              "Ana Rosa¹                        1\n",
              "Vila Mariana                     1\n",
              "Santa Cruz                       1\n",
              "Praça da Árvore                  1\n",
              "Saúde                            1\n",
              "São Judas                        1\n",
              "Tucuruvi                         1\n",
              "Name: Estação, dtype: int64"
            ]
          },
          "metadata": {},
          "execution_count": 20
        }
      ]
    },
    {
      "cell_type": "markdown",
      "source": [
        "## **Módulo 5 - Sigmoidal**\n"
      ],
      "metadata": {
        "id": "n2tgWDMubygu"
      }
    },
    {
      "cell_type": "markdown",
      "source": [
        "**Listas**"
      ],
      "metadata": {
        "id": "CRw6mlcFb47n"
      }
    },
    {
      "cell_type": "code",
      "source": [
        "# criar uma lista\n",
        "lista_inicial = [\"Lucas\",\"Pequeno\",\"Sterzeck\",1.65,True]\n",
        "print(lista_inicial)\n",
        "print(type(lista_inicial))"
      ],
      "metadata": {
        "colab": {
          "base_uri": "https://localhost:8080/"
        },
        "id": "W3qufv5PbyPI",
        "outputId": "a9d42c2b-5214-49de-b9e3-65993c45ab99"
      },
      "execution_count": null,
      "outputs": [
        {
          "output_type": "stream",
          "name": "stdout",
          "text": [
            "['Lucas', 'Pequeno', 'Sterzeck', 1.65, True]\n",
            "<class 'list'>\n"
          ]
        }
      ]
    },
    {
      "cell_type": "markdown",
      "source": [
        "**Para adicionar conteúdo:** .append\n",
        "\n",
        "**1º Meio para remover conteúdo:** .pop\n",
        "\n",
        "**2º Meio para remover conteúdo:** .remove\n",
        "\n",
        "Temos também declarações lógicas com o **not** ou **is not**\n"
      ],
      "metadata": {
        "id": "HBeL8epbcIDn"
      }
    },
    {
      "cell_type": "code",
      "source": [
        "print(f\"Lista antes da alteração::: {lista_inicial}\")\n",
        "lista_inicial.append(\"É o cara\")\n",
        "lista_inicial.remove(1.65)\n",
        "lista_inicial.pop(True)\n",
        "print(f\"Lista após da alteração::: {lista_inicial}\")\n"
      ],
      "metadata": {
        "colab": {
          "base_uri": "https://localhost:8080/"
        },
        "id": "oBFoFk_wcZLi",
        "outputId": "1d76a4c8-b091-4986-f536-f3ec7c3eb8f6"
      },
      "execution_count": null,
      "outputs": [
        {
          "output_type": "stream",
          "name": "stdout",
          "text": [
            "Lista antes da alteração::: ['Lucas', 'Pequeno', 'Sterzeck', 1.65, True]\n",
            "Lista após da alteração::: ['Lucas', 'Sterzeck', True, 'É o cara']\n"
          ]
        }
      ]
    },
    {
      "cell_type": "code",
      "source": [
        "a = \"Sterzeck\" in lista_inicial\n",
        "b = \"Lucas\" is not lista_inicial\n",
        "c = \"José\" in lista_inicial\n",
        "print(a,b,c)\n",
        "\n",
        "#Nesse caso a ultima variável \"C\" ficou como falsa pelo fato no nome \"José\" não estar dentro da variável."
      ],
      "metadata": {
        "colab": {
          "base_uri": "https://localhost:8080/"
        },
        "id": "PWEbCeQNdEQq",
        "outputId": "c807bbcd-16cd-4c1e-eb0a-dc886caa5083"
      },
      "execution_count": null,
      "outputs": [
        {
          "output_type": "stream",
          "name": "stdout",
          "text": [
            "True True False\n"
          ]
        }
      ]
    },
    {
      "cell_type": "markdown",
      "source": [
        "**Dicionários**\n",
        "\n",
        "Dict"
      ],
      "metadata": {
        "id": "LUXd0c7Pd06F"
      }
    },
    {
      "cell_type": "code",
      "source": [
        "familia = {\"Lucas\":22,\"Sabrina\":19,\"Alzerina\":45}\n",
        "familia"
      ],
      "metadata": {
        "colab": {
          "base_uri": "https://localhost:8080/"
        },
        "id": "id48hj5ejTAh",
        "outputId": "c87937aa-f313-4f59-e2f3-6b4439e0abef"
      },
      "execution_count": null,
      "outputs": [
        {
          "output_type": "execute_result",
          "data": {
            "text/plain": [
              "{'Alzerina': 45, 'Lucas': 22, 'Sabrina': 19}"
            ]
          },
          "metadata": {},
          "execution_count": 10
        }
      ]
    },
    {
      "cell_type": "code",
      "source": [
        "familia.pop(\"Sabrina\")\n",
        "familia"
      ],
      "metadata": {
        "colab": {
          "base_uri": "https://localhost:8080/"
        },
        "id": "KnwSf7qHjWrF",
        "outputId": "f7a175c5-c9c8-4fc9-d349-70435111b35b"
      },
      "execution_count": null,
      "outputs": [
        {
          "output_type": "execute_result",
          "data": {
            "text/plain": [
              "{'Alzerina': 45, 'Lucas': 22}"
            ]
          },
          "metadata": {},
          "execution_count": 11
        }
      ]
    },
    {
      "cell_type": "code",
      "source": [
        "familia[\"Sabrina\"] = 19\n",
        "familia"
      ],
      "metadata": {
        "colab": {
          "base_uri": "https://localhost:8080/"
        },
        "id": "J2QlAHJojbtd",
        "outputId": "4fa98314-ed34-442c-ec20-fd97cef1681f"
      },
      "execution_count": null,
      "outputs": [
        {
          "output_type": "execute_result",
          "data": {
            "text/plain": [
              "{'Alzerina': 45, 'Lucas': 22, 'Sabrina': 19}"
            ]
          },
          "metadata": {},
          "execution_count": 12
        }
      ]
    },
    {
      "cell_type": "code",
      "source": [
        "frutas = {\"maça\":2.15,\"pera\":1.80,\"caju\":3.20}\n",
        "verduras = {\"alface\":1,\"beterraba\":2,\"couve-flor\":3.45}\n",
        "print(frutas,\"\\n\",verduras)"
      ],
      "metadata": {
        "colab": {
          "base_uri": "https://localhost:8080/"
        },
        "id": "P9To3Tk8jcCv",
        "outputId": "6c11acf6-feb3-4d19-d0fa-cc15dd8c6443"
      },
      "execution_count": null,
      "outputs": [
        {
          "output_type": "stream",
          "name": "stdout",
          "text": [
            "{'maça': 2.15, 'pera': 1.8, 'caju': 3.2} \n",
            " {'alface': 1, 'beterraba': 2, 'couve-flor': 3.45}\n"
          ]
        }
      ]
    },
    {
      "cell_type": "code",
      "source": [
        "print(f\"teste de impressão:\\nFrutas Keys::: {frutas.keys()}\\nVerduras Values::: {verduras.values()}\")"
      ],
      "metadata": {
        "colab": {
          "base_uri": "https://localhost:8080/"
        },
        "id": "fxqUqi7jjdhp",
        "outputId": "537d51fa-6784-4182-ceb4-686e436a3fb1"
      },
      "execution_count": null,
      "outputs": [
        {
          "output_type": "stream",
          "name": "stdout",
          "text": [
            "teste de impressão:\n",
            "Frutas Keys::: dict_keys(['maça', 'pera', 'caju'])\n",
            "Verduras Values::: dict_values([1, 2, 3.45])\n"
          ]
        }
      ]
    },
    {
      "cell_type": "code",
      "source": [
        "# junte os dois dicionários\n",
        "frutas.update(verduras)\n",
        "print(frutas)\n",
        "frutas.clear()\n",
        "print(frutas)"
      ],
      "metadata": {
        "colab": {
          "base_uri": "https://localhost:8080/"
        },
        "id": "DzoCdavqjrDO",
        "outputId": "49bccbb4-eee7-4114-fa51-de282fd64b11"
      },
      "execution_count": null,
      "outputs": [
        {
          "output_type": "stream",
          "name": "stdout",
          "text": [
            "{'maça': 2.15, 'pera': 1.8, 'caju': 3.2, 'alface': 1, 'beterraba': 2, 'couve-flor': 3.45}\n",
            "{}\n"
          ]
        }
      ]
    },
    {
      "cell_type": "markdown",
      "source": [
        "**Tuplas**"
      ],
      "metadata": {
        "id": "_wIU6ziLj80E"
      }
    }
  ]
}